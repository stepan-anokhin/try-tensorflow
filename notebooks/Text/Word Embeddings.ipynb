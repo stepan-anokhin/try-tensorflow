{
 "cells": [
  {
   "cell_type": "markdown",
   "id": "8bf7e1b1",
   "metadata": {},
   "source": [
    "# Word Embeddings\n",
    "\n",
    "Based on this Tensorflow tutorial: [Word embeddings](https://www.tensorflow.org/text/guide/word_embeddings)"
   ]
  },
  {
   "cell_type": "markdown",
   "id": "81e0f89f",
   "metadata": {},
   "source": [
    "## Setup"
   ]
  },
  {
   "cell_type": "code",
   "execution_count": 1,
   "id": "f32a852c",
   "metadata": {},
   "outputs": [],
   "source": [
    "import os\n",
    "os.environ['TF_CPP_MIN_LOG_LEVEL'] = '3' "
   ]
  }
 ],
 "metadata": {
  "kernelspec": {
   "display_name": "Python 3 (ipykernel)",
   "language": "python",
   "name": "python3"
  },
  "language_info": {
   "codemirror_mode": {
    "name": "ipython",
    "version": 3
   },
   "file_extension": ".py",
   "mimetype": "text/x-python",
   "name": "python",
   "nbconvert_exporter": "python",
   "pygments_lexer": "ipython3",
   "version": "3.10.5"
  }
 },
 "nbformat": 4,
 "nbformat_minor": 5
}
