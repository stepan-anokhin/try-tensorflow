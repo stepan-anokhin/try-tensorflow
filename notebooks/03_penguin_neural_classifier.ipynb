{
 "cells": [
  {
   "cell_type": "markdown",
   "id": "406ffe77",
   "metadata": {},
   "source": [
    "# Custom training: walkthrough\n",
    "\n",
    "Based on this tutorial: [Custom training: walkthrough](https://www.tensorflow.org/tutorials/customization/custom_training_walkthrough)\n",
    "\n",
    "This notebook shows how to build a neural network model to classify  penguins species. "
   ]
  },
  {
   "cell_type": "markdown",
   "id": "ee8f6fe5",
   "metadata": {},
   "source": [
    "## Setup"
   ]
  },
  {
   "cell_type": "code",
   "execution_count": 1,
   "id": "f1badf55",
   "metadata": {},
   "outputs": [],
   "source": [
    "import os\n",
    "os.environ['TF_CPP_MIN_LOG_LEVEL'] = '3' "
   ]
  },
  {
   "cell_type": "code",
   "execution_count": 3,
   "id": "e66b4353",
   "metadata": {},
   "outputs": [],
   "source": [
    "import tensorflow as tf\n",
    "import tensorflow_datasets as tfds\n",
    "import matplotlib.pyplot as plt"
   ]
  },
  {
   "cell_type": "markdown",
   "id": "e334628d",
   "metadata": {},
   "source": [
    "## Prerequisites\n",
    "\n",
    "Make sure to install **TensorFlow Datasets** package which provides ready-to-use datasets. It handles downloading and preparing data and constructs [tf.data.Dataset](https://www.tensorflow.org/api_docs/python/tf/data/Dataset) as a result.\n",
    "\n",
    "Install:\n",
    "```shell\n",
    "poetry add tfds-nightly\n",
    "```"
   ]
  },
  {
   "cell_type": "markdown",
   "id": "97df6f73",
   "metadata": {},
   "source": [
    "# Meet the Penguins!\n",
    "\n",
    "![Penguins!!!](https://allisonhorst.github.io/palmerpenguins/reference/figures/lter_penguins.png)\n",
    "\n",
    "More about the [palmerpenguins](https://allisonhorst.github.io/palmerpenguins/) dataset. "
   ]
  },
  {
   "cell_type": "markdown",
   "id": "bac934c6",
   "metadata": {},
   "source": [
    "## Import Dataset\n",
    "\n",
    "The default [penguins/processed](https://www.tensorflow.org/datasets/catalog/penguins) TensorFlow Dataset is already cleaned, normalized, and ready for building a model. Before you download the processed data, preview a simplified version to get familiar with the original penguin survey data."
   ]
  },
  {
   "cell_type": "markdown",
   "id": "42396d0c",
   "metadata": {},
   "source": [
    "### Preview the Data\n",
    "\n",
    "Since the `penguins/processed` dataset is prepared, cleaned and so on, it makes sense to take a look at simplified version to get familiarized outselves with the data."
   ]
  },
  {
   "cell_type": "code",
   "execution_count": 6,
   "id": "14aed33d",
   "metadata": {},
   "outputs": [
    {
     "ename": "TypeError",
     "evalue": "object.__init__() takes exactly one argument (the instance to initialize)",
     "output_type": "error",
     "traceback": [
      "\u001b[0;31m---------------------------------------------------------------------------\u001b[0m",
      "\u001b[0;31mTypeError\u001b[0m                                 Traceback (most recent call last)",
      "Cell \u001b[0;32mIn [6], line 2\u001b[0m\n\u001b[1;32m      1\u001b[0m data_preview, info \u001b[38;5;241m=\u001b[39m tfds\u001b[38;5;241m.\u001b[39mload(\u001b[38;5;124m'\u001b[39m\u001b[38;5;124mpenguins/simple\u001b[39m\u001b[38;5;124m'\u001b[39m, split\u001b[38;5;241m=\u001b[39m\u001b[38;5;124m'\u001b[39m\u001b[38;5;124mtrain\u001b[39m\u001b[38;5;124m'\u001b[39m, with_info\u001b[38;5;241m=\u001b[39m\u001b[38;5;28;01mTrue\u001b[39;00m)\n\u001b[0;32m----> 2\u001b[0m df \u001b[38;5;241m=\u001b[39m \u001b[43mtfds\u001b[49m\u001b[38;5;241;43m.\u001b[39;49m\u001b[43mas_dataframe\u001b[49m\u001b[43m(\u001b[49m\u001b[43mdata_preview\u001b[49m\u001b[38;5;241;43m.\u001b[39;49m\u001b[43mtake\u001b[49m\u001b[43m(\u001b[49m\u001b[38;5;241;43m5\u001b[39;49m\u001b[43m)\u001b[49m\u001b[43m,\u001b[49m\u001b[43m \u001b[49m\u001b[43minfo\u001b[49m\u001b[43m)\u001b[49m\n",
      "File \u001b[0;32m~/.cache/pypoetry/virtualenvs/try-tensorflow-80Vfe8NC-py3.8/lib/python3.8/site-packages/tensorflow_datasets/core/as_dataframe.py:219\u001b[0m, in \u001b[0;36mas_dataframe\u001b[0;34m(ds, ds_info)\u001b[0m\n\u001b[1;32m    217\u001b[0m columns \u001b[38;5;241m=\u001b[39m _make_columns(ds\u001b[38;5;241m.\u001b[39melement_spec, ds_info\u001b[38;5;241m=\u001b[39mds_info)\n\u001b[1;32m    218\u001b[0m rows \u001b[38;5;241m=\u001b[39m [_make_row_dict(ex, columns) \u001b[38;5;28;01mfor\u001b[39;00m ex \u001b[38;5;129;01min\u001b[39;00m dataset_utils\u001b[38;5;241m.\u001b[39mas_numpy(ds)]\n\u001b[0;32m--> 219\u001b[0m df \u001b[38;5;241m=\u001b[39m \u001b[43mStyledDataFrame\u001b[49m\u001b[43m(\u001b[49m\u001b[43mrows\u001b[49m\u001b[43m)\u001b[49m\n\u001b[1;32m    220\u001b[0m df\u001b[38;5;241m.\u001b[39mcurrent_style\u001b[38;5;241m.\u001b[39mformat({c\u001b[38;5;241m.\u001b[39mname: c\u001b[38;5;241m.\u001b[39mformat_fn \u001b[38;5;28;01mfor\u001b[39;00m c \u001b[38;5;129;01min\u001b[39;00m columns \u001b[38;5;28;01mif\u001b[39;00m c\u001b[38;5;241m.\u001b[39mformat_fn})\n\u001b[1;32m    221\u001b[0m \u001b[38;5;28;01mreturn\u001b[39;00m df\n",
      "File \u001b[0;32m~/.cache/pypoetry/virtualenvs/try-tensorflow-80Vfe8NC-py3.8/lib/python3.8/site-packages/tensorflow_datasets/core/as_dataframe.py:145\u001b[0m, in \u001b[0;36mStyledDataFrame.__init__\u001b[0;34m(self, *args, **kwargs)\u001b[0m\n\u001b[1;32m    144\u001b[0m \u001b[38;5;28;01mdef\u001b[39;00m \u001b[38;5;21m__init__\u001b[39m(\u001b[38;5;28mself\u001b[39m, \u001b[38;5;241m*\u001b[39margs, \u001b[38;5;241m*\u001b[39m\u001b[38;5;241m*\u001b[39mkwargs):\n\u001b[0;32m--> 145\u001b[0m   \u001b[38;5;28;43msuper\u001b[39;49m\u001b[43m(\u001b[49m\u001b[43m)\u001b[49m\u001b[38;5;241;43m.\u001b[39;49m\u001b[38;5;21;43m__init__\u001b[39;49m\u001b[43m(\u001b[49m\u001b[38;5;241;43m*\u001b[39;49m\u001b[43margs\u001b[49m\u001b[43m,\u001b[49m\u001b[43m \u001b[49m\u001b[38;5;241;43m*\u001b[39;49m\u001b[38;5;241;43m*\u001b[39;49m\u001b[43mkwargs\u001b[49m\u001b[43m)\u001b[49m\n\u001b[1;32m    146\u001b[0m   \u001b[38;5;66;03m# Use name-mangling for forward-compatibility in case pandas\u001b[39;00m\n\u001b[1;32m    147\u001b[0m   \u001b[38;5;66;03m# adds a `_styler` attribute in the future.\u001b[39;00m\n\u001b[1;32m    148\u001b[0m   \u001b[38;5;28mself\u001b[39m\u001b[38;5;241m.\u001b[39m__styler: Optional[Styler] \u001b[38;5;241m=\u001b[39m \u001b[38;5;28;01mNone\u001b[39;00m\n",
      "\u001b[0;31mTypeError\u001b[0m: object.__init__() takes exactly one argument (the instance to initialize)"
     ]
    }
   ],
   "source": [
    "data_preview, info = tfds.load('penguins/simple', split='train', with_info=True)\n",
    "df = tfds.as_dataframe(data_preview.take(5), info)"
   ]
  }
 ],
 "metadata": {
  "kernelspec": {
   "display_name": "Python 3 (ipykernel)",
   "language": "python",
   "name": "python3"
  },
  "language_info": {
   "codemirror_mode": {
    "name": "ipython",
    "version": 3
   },
   "file_extension": ".py",
   "mimetype": "text/x-python",
   "name": "python",
   "nbconvert_exporter": "python",
   "pygments_lexer": "ipython3",
   "version": "3.8.10"
  }
 },
 "nbformat": 4,
 "nbformat_minor": 5
}
