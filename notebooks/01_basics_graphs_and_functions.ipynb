{
 "cells": [
  {
   "cell_type": "markdown",
   "id": "0c70ef10",
   "metadata": {},
   "source": [
    "# Graphs and Functions\n"
   ]
  },
  {
   "cell_type": "markdown",
   "id": "5bd54936",
   "metadata": {},
   "source": [
    "## Setup\n",
    "\n",
    "Import libraries:"
   ]
  },
  {
   "cell_type": "code",
   "execution_count": 1,
   "id": "18fefa58",
   "metadata": {},
   "outputs": [
    {
     "name": "stderr",
     "output_type": "stream",
     "text": [
      "2022-10-30 15:16:49.249646: I tensorflow/core/platform/cpu_feature_guard.cc:193] This TensorFlow binary is optimized with oneAPI Deep Neural Network Library (oneDNN) to use the following CPU instructions in performance-critical operations:  AVX2 AVX_VNNI FMA\n",
      "To enable them in other operations, rebuild TensorFlow with the appropriate compiler flags.\n",
      "2022-10-30 15:16:49.315065: I tensorflow/core/util/util.cc:169] oneDNN custom operations are on. You may see slightly different numerical results due to floating-point round-off errors from different computation orders. To turn them off, set the environment variable `TF_ENABLE_ONEDNN_OPTS=0`.\n",
      "2022-10-30 15:16:49.331395: E tensorflow/stream_executor/cuda/cuda_blas.cc:2981] Unable to register cuBLAS factory: Attempting to register factory for plugin cuBLAS when one has already been registered\n",
      "2022-10-30 15:16:49.629901: W tensorflow/stream_executor/platform/default/dso_loader.cc:64] Could not load dynamic library 'libnvinfer.so.7'; dlerror: libnvinfer.so.7: cannot open shared object file: No such file or directory\n",
      "2022-10-30 15:16:49.629929: W tensorflow/stream_executor/platform/default/dso_loader.cc:64] Could not load dynamic library 'libnvinfer_plugin.so.7'; dlerror: libnvinfer_plugin.so.7: cannot open shared object file: No such file or directory\n",
      "2022-10-30 15:16:49.629932: W tensorflow/compiler/tf2tensorrt/utils/py_utils.cc:38] TF-TRT Warning: Cannot dlopen some TensorRT libraries. If you would like to use Nvidia GPU with TensorRT, please make sure the missing libraries mentioned above are installed properly.\n"
     ]
    }
   ],
   "source": [
    "import tensorflow as tf"
   ]
  },
  {
   "cell_type": "code",
   "execution_count": 2,
   "id": "91907cbb",
   "metadata": {},
   "outputs": [
    {
     "name": "stderr",
     "output_type": "stream",
     "text": [
      "2022-10-30 15:18:03.387106: I tensorflow/stream_executor/cuda/cuda_gpu_executor.cc:980] successful NUMA node read from SysFS had negative value (-1), but there must be at least one NUMA node, so returning NUMA node zero\n",
      "2022-10-30 15:18:03.415514: I tensorflow/stream_executor/cuda/cuda_gpu_executor.cc:980] successful NUMA node read from SysFS had negative value (-1), but there must be at least one NUMA node, so returning NUMA node zero\n",
      "2022-10-30 15:18:03.415584: I tensorflow/stream_executor/cuda/cuda_gpu_executor.cc:980] successful NUMA node read from SysFS had negative value (-1), but there must be at least one NUMA node, so returning NUMA node zero\n"
     ]
    },
    {
     "data": {
      "text/plain": [
       "[PhysicalDevice(name='/physical_device:CPU:0', device_type='CPU'),\n",
       " PhysicalDevice(name='/physical_device:GPU:0', device_type='GPU')]"
      ]
     },
     "execution_count": 2,
     "metadata": {},
     "output_type": "execute_result"
    }
   ],
   "source": [
    "tf.config.list_physical_devices()"
   ]
  },
  {
   "cell_type": "markdown",
   "id": "aa04f60b",
   "metadata": {},
   "source": [
    "## Taking Advantage of Graphs\n",
    "\n",
    "`tf.function` takes a regular function as input and returns a `Function` object. The result `Function` object is a callable that will build graph by intracpecting python function (how?) and will have the same contract as the wrapped original function.  "
   ]
  },
  {
   "cell_type": "markdown",
   "id": "77f8cb23",
   "metadata": {},
   "source": [
    "### Basic Example"
   ]
  },
  {
   "cell_type": "code",
   "execution_count": 3,
   "id": "2fd3d581",
   "metadata": {},
   "outputs": [
    {
     "data": {
      "text/plain": [
       "<tensorflow.python.eager.def_function.Function at 0x7f4cb44b0700>"
      ]
     },
     "execution_count": 3,
     "metadata": {},
     "output_type": "execute_result"
    }
   ],
   "source": [
    "@tf.function\n",
    "def linear_operator(w, b, x):\n",
    "    return tf.matmul(w, x) + b\n",
    "\n",
    "linear_operator"
   ]
  },
  {
   "cell_type": "code",
   "execution_count": 9,
   "id": "38710178",
   "metadata": {},
   "outputs": [
    {
     "data": {
      "text/plain": [
       "<tf.Tensor: shape=(1, 2, 1), dtype=float32, numpy=\n",
       "array([[[12.],\n",
       "        [27.]]], dtype=float32)>"
      ]
     },
     "execution_count": 9,
     "metadata": {},
     "output_type": "execute_result"
    }
   ],
   "source": [
    "w=tf.constant([[1.0, 2.0], [3.0, 4.0]]),\n",
    "b=tf.constant([[1.0], [2.0]]),\n",
    "x=tf.Variable([[3.0], [4.0]])\n",
    "\n",
    "linear_operator(w, b, x)"
   ]
  },
  {
   "cell_type": "code",
   "execution_count": 11,
   "id": "c3e80e17",
   "metadata": {},
   "outputs": [
    {
     "data": {
      "text/plain": [
       "<tf.Tensor: shape=(1, 2, 1), dtype=bool, numpy=\n",
       "array([[[ True],\n",
       "        [ True]]])>"
      ]
     },
     "execution_count": 11,
     "metadata": {},
     "output_type": "execute_result"
    }
   ],
   "source": [
    "tf.matmul(w, x) + b == linear_operator(w, b, x)"
   ]
  },
  {
   "cell_type": "markdown",
   "id": "6ac2a4de",
   "metadata": {},
   "source": [
    "### Explanation\n",
    "\n",
    "`Function` encapsulates multiple `tf.Graph` behind the same API. It creates a new Graph depending on the `dtype` and `shape` of the arguments."
   ]
  },
  {
   "cell_type": "markdown",
   "id": "5fe77785",
   "metadata": {},
   "source": [
    "### Inner Functions\n",
    "\n",
    "`tf.function` applies to the function and all the function it calls:"
   ]
  },
  {
   "cell_type": "code",
   "execution_count": 12,
   "id": "b0460656",
   "metadata": {},
   "outputs": [],
   "source": [
    "def inner_function(w, b, x):\n",
    "    print(\"From inner function!\")\n",
    "    return tf.matmul(w, x) + b\n",
    "\n",
    "@tf.function\n",
    "def outer_function(w, b, x, z):\n",
    "    print(\"From outer function!\")\n",
    "    return tf.reduce_sum(inner_function(w, b, x) * z)"
   ]
  },
  {
   "cell_type": "code",
   "execution_count": 15,
   "id": "c938b573",
   "metadata": {},
   "outputs": [
    {
     "name": "stdout",
     "output_type": "stream",
     "text": [
      "From outer function!\n",
      "From inner function!\n"
     ]
    },
    {
     "data": {
      "text/plain": [
       "<tf.Tensor: shape=(), dtype=float32, numpy=51.0>"
      ]
     },
     "execution_count": 15,
     "metadata": {},
     "output_type": "execute_result"
    }
   ],
   "source": [
    "z = tf.constant([[2.0], [1.0]])\n",
    "\n",
    "outer_function(w, b, x, z)"
   ]
  },
  {
   "cell_type": "code",
   "execution_count": 16,
   "id": "adc10093",
   "metadata": {},
   "outputs": [
    {
     "data": {
      "text/plain": [
       "<tf.Tensor: shape=(), dtype=float32, numpy=51.0>"
      ]
     },
     "execution_count": 16,
     "metadata": {},
     "output_type": "execute_result"
    }
   ],
   "source": [
    "outer_function(w, b, x, z)"
   ]
  },
  {
   "cell_type": "markdown",
   "id": "fb40fe12",
   "metadata": {},
   "source": [
    "**NOTE**: The second time we see not python side effects!"
   ]
  },
  {
   "cell_type": "markdown",
   "id": "50d1380e",
   "metadata": {},
   "source": [
    "## Converting Python Functions to Graphs\n",
    "\n"
   ]
  }
 ],
 "metadata": {
  "kernelspec": {
   "display_name": "Python 3 (ipykernel)",
   "language": "python",
   "name": "python3"
  },
  "language_info": {
   "codemirror_mode": {
    "name": "ipython",
    "version": 3
   },
   "file_extension": ".py",
   "mimetype": "text/x-python",
   "name": "python",
   "nbconvert_exporter": "python",
   "pygments_lexer": "ipython3",
   "version": "3.8.10"
  }
 },
 "nbformat": 4,
 "nbformat_minor": 5
}
