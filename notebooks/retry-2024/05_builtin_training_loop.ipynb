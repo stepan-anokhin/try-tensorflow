{
 "cells": [
  {
   "cell_type": "markdown",
   "id": "f17485e3-c33b-48de-990f-1d1e622e62b7",
   "metadata": {},
   "source": [
    "# Built-in Training Loop: Refresher\n",
    "\n",
    "This is notebook is aimed at refreshing the training with built-in methods. \n",
    "\n",
    "Based on [Training & evaluation with the built-in methods](https://www.tensorflow.org/guide/keras/training_with_built_in_methods) tutorial.\n"
   ]
  },
  {
   "cell_type": "markdown",
   "id": "a3cefc38-6fe3-4021-a966-1ed20709ffe7",
   "metadata": {},
   "source": [
    "## Setup \n",
    "\n",
    "Prepare env:"
   ]
  },
  {
   "cell_type": "code",
   "execution_count": 1,
   "id": "35452bfb-e2f0-4adb-a0fb-c1af19b3fc11",
   "metadata": {},
   "outputs": [],
   "source": [
    "import os \n",
    "\n",
    "# Suppress unwnted TF logs\n",
    "os.environ['TF_CPP_MIN_LOG_LEVEL'] = '3'\n",
    "\n",
    "# Load compressed models from tensorflow_hub\n",
    "os.environ['TFHUB_MODEL_LOAD_FORMAT'] = 'COMPRESSED'\n",
    "\n",
    "# Fix duplicated CUDA paths (only on my current env):\n",
    "from socket import gethostname\n",
    "if gethostname() == 'stepan-pc':\n",
    "    OTHER_PATHS = os.environ['PATH']\n",
    "    CUDA_12_5_PATH = '/usr/local/cuda-12.5/bin'\n",
    "    os.environ['PATH']=f'{CUDA_12_5_PATH}:{OTHER_PATHS}'"
   ]
  },
  {
   "cell_type": "markdown",
   "id": "327e2525-76af-4dc6-8d3d-dcbb95ec3bb7",
   "metadata": {},
   "source": [
    "Then import libs:"
   ]
  },
  {
   "cell_type": "code",
   "execution_count": 2,
   "id": "6c50ddab-0ee5-4595-9c81-8d31b57d0dfe",
   "metadata": {},
   "outputs": [],
   "source": [
    "import tensorflow as tf\n",
    "import tensorflow.keras as keras\n",
    "import tensorflow.keras.layers as layers\n",
    "import matplotlib as mpl\n",
    "import matplotlib.pyplot as plt"
   ]
  },
  {
   "cell_type": "markdown",
   "id": "804799ed-4521-4678-89fc-152915ed4b41",
   "metadata": {},
   "source": [
    "## Intro\n",
    "\n",
    "This tutorial covers the following `Model` API: [Model.compile()](https://www.tensorflow.org/api_docs/python/tf/keras/Model#compile), [Model.fit()](https://www.tensorflow.org/api_docs/python/tf/keras/Model#fit), [Model.evaluate()](https://www.tensorflow.org/api_docs/python/tf/keras/Model#evaluate) and [Model.predict()](https://www.tensorflow.org/api_docs/python/tf/keras/Model#predict)"
   ]
  },
  {
   "cell_type": "markdown",
   "id": "355a78e1-740d-4ae3-aed0-a9712b86eb15",
   "metadata": {},
   "source": [
    "## Overview: e2e Example"
   ]
  },
  {
   "cell_type": "code",
   "execution_count": 3,
   "id": "d12fb102-1a95-49cf-9818-41e2028dead9",
   "metadata": {},
   "outputs": [],
   "source": [
    "inputs = keras.Input(shape=(784,), name=\"digits\")\n",
    "dense1 = layers.Dense(units=64, activation=tf.nn.relu, name=\"dense_1\")(inputs)\n",
    "dense2 = layers.Dense(units=64, activation=tf.nn.relu, name=\"dense_2\")(dense1)\n",
    "outputs = layers.Dense(10, activation=tf.nn.softmax, name=\"predictions\")(dense2)\n",
    "\n",
    "model = keras.Model(inputs=inputs, outputs=outputs)"
   ]
  },
  {
   "cell_type": "code",
   "execution_count": 4,
   "id": "ebce931c-950d-4254-863a-aa6bf8a08649",
   "metadata": {},
   "outputs": [],
   "source": [
    "(x_train, y_train), (x_test, y_test) = keras.datasets.mnist.load_data()"
   ]
  },
  {
   "cell_type": "code",
   "execution_count": 7,
   "id": "8994256f-9cda-42b7-a571-52a08bc02ff7",
   "metadata": {},
   "outputs": [
    {
     "data": {
      "text/plain": [
       "(60000, 28, 28)"
      ]
     },
     "execution_count": 7,
     "metadata": {},
     "output_type": "execute_result"
    }
   ],
   "source": [
    "x_train.shape"
   ]
  },
  {
   "cell_type": "code",
   "execution_count": 9,
   "id": "673f00a1-f8ed-401d-860a-b78fc8255ced",
   "metadata": {},
   "outputs": [],
   "source": [
    "x_train = x_train.reshape(60000, 784).astype(\"float32\") / 255\n",
    "y_train = y_train.astype(\"float32\")\n",
    "\n",
    "x_test = x_test.reshape(10000, 784).astype(\"float32\") / 255\n",
    "y_test = y_test.astype(\"float32\")\n",
    "\n",
    "val_count = 10000\n",
    "x_val = x_train[-val_count:]\n",
    "y_val = y_train[-val_count:]\n",
    "x_train = x_train[:-val_count]\n",
    "y_train = y_train[:-val_count]"
   ]
  },
  {
   "cell_type": "code",
   "execution_count": 12,
   "id": "5db55ceb-c3b4-429b-a600-045a38a815b5",
   "metadata": {},
   "outputs": [],
   "source": [
    "model.compile(\n",
    "    optimizer=keras.optimizers.RMSprop(),\n",
    "    loss=keras.losses.SparseCategoricalCrossentropy(),\n",
    "    metrics=[keras.metrics.SparseCategoricalAccuracy()],\n",
    ")"
   ]
  },
  {
   "cell_type": "code",
   "execution_count": 14,
   "id": "54ee0aa3-0985-4172-83a2-f5289c79f983",
   "metadata": {},
   "outputs": [
    {
     "name": "stdout",
     "output_type": "stream",
     "text": [
      "Epoch 1/10\n"
     ]
    },
    {
     "name": "stderr",
     "output_type": "stream",
     "text": [
      "WARNING: All log messages before absl::InitializeLog() is called are written to STDERR\n",
      "I0000 00:00:1719901405.734584   19523 service.cc:145] XLA service 0x75ee540057b0 initialized for platform CUDA (this does not guarantee that XLA will be used). Devices:\n",
      "I0000 00:00:1719901405.734615   19523 service.cc:153]   StreamExecutor device (0): NVIDIA GeForce RTX 3070, Compute Capability 8.6\n"
     ]
    },
    {
     "name": "stdout",
     "output_type": "stream",
     "text": [
      "\u001b[1m351/782\u001b[0m \u001b[32m━━━━━━━━\u001b[0m\u001b[37m━━━━━━━━━━━━\u001b[0m \u001b[1m0s\u001b[0m 430us/step - loss: 0.8041 - sparse_categorical_accuracy: 0.7745"
     ]
    },
    {
     "name": "stderr",
     "output_type": "stream",
     "text": [
      "I0000 00:00:1719901406.563226   19523 device_compiler.h:188] Compiled cluster using XLA!  This line is logged at most once for the lifetime of the process.\n"
     ]
    },
    {
     "name": "stdout",
     "output_type": "stream",
     "text": [
      "\u001b[1m782/782\u001b[0m \u001b[32m━━━━━━━━━━━━━━━━━━━━\u001b[0m\u001b[37m\u001b[0m \u001b[1m2s\u001b[0m 1ms/step - loss: 0.5800 - sparse_categorical_accuracy: 0.8363 - val_loss: 0.1825 - val_sparse_categorical_accuracy: 0.9472\n",
      "Epoch 2/10\n",
      "\u001b[1m782/782\u001b[0m \u001b[32m━━━━━━━━━━━━━━━━━━━━\u001b[0m\u001b[37m\u001b[0m \u001b[1m0s\u001b[0m 611us/step - loss: 0.1830 - sparse_categorical_accuracy: 0.9462 - val_loss: 0.1525 - val_sparse_categorical_accuracy: 0.9533\n",
      "Epoch 3/10\n",
      "\u001b[1m782/782\u001b[0m \u001b[32m━━━━━━━━━━━━━━━━━━━━\u001b[0m\u001b[37m\u001b[0m \u001b[1m1s\u001b[0m 645us/step - loss: 0.1263 - sparse_categorical_accuracy: 0.9616 - val_loss: 0.1218 - val_sparse_categorical_accuracy: 0.9625\n",
      "Epoch 4/10\n",
      "\u001b[1m782/782\u001b[0m \u001b[32m━━━━━━━━━━━━━━━━━━━━\u001b[0m\u001b[37m\u001b[0m \u001b[1m1s\u001b[0m 775us/step - loss: 0.0988 - sparse_categorical_accuracy: 0.9702 - val_loss: 0.1019 - val_sparse_categorical_accuracy: 0.9690\n",
      "Epoch 5/10\n",
      "\u001b[1m782/782\u001b[0m \u001b[32m━━━━━━━━━━━━━━━━━━━━\u001b[0m\u001b[37m\u001b[0m \u001b[1m1s\u001b[0m 743us/step - loss: 0.0759 - sparse_categorical_accuracy: 0.9763 - val_loss: 0.0958 - val_sparse_categorical_accuracy: 0.9709\n",
      "Epoch 6/10\n",
      "\u001b[1m782/782\u001b[0m \u001b[32m━━━━━━━━━━━━━━━━━━━━\u001b[0m\u001b[37m\u001b[0m \u001b[1m1s\u001b[0m 956us/step - loss: 0.0682 - sparse_categorical_accuracy: 0.9797 - val_loss: 0.0970 - val_sparse_categorical_accuracy: 0.9714\n",
      "Epoch 7/10\n",
      "\u001b[1m782/782\u001b[0m \u001b[32m━━━━━━━━━━━━━━━━━━━━\u001b[0m\u001b[37m\u001b[0m \u001b[1m0s\u001b[0m 546us/step - loss: 0.0593 - sparse_categorical_accuracy: 0.9818 - val_loss: 0.0964 - val_sparse_categorical_accuracy: 0.9712\n",
      "Epoch 8/10\n",
      "\u001b[1m782/782\u001b[0m \u001b[32m━━━━━━━━━━━━━━━━━━━━\u001b[0m\u001b[37m\u001b[0m \u001b[1m1s\u001b[0m 622us/step - loss: 0.0474 - sparse_categorical_accuracy: 0.9850 - val_loss: 0.0916 - val_sparse_categorical_accuracy: 0.9733\n",
      "Epoch 9/10\n",
      "\u001b[1m782/782\u001b[0m \u001b[32m━━━━━━━━━━━━━━━━━━━━\u001b[0m\u001b[37m\u001b[0m \u001b[1m1s\u001b[0m 742us/step - loss: 0.0438 - sparse_categorical_accuracy: 0.9862 - val_loss: 0.1070 - val_sparse_categorical_accuracy: 0.9727\n",
      "Epoch 10/10\n",
      "\u001b[1m782/782\u001b[0m \u001b[32m━━━━━━━━━━━━━━━━━━━━\u001b[0m\u001b[37m\u001b[0m \u001b[1m1s\u001b[0m 707us/step - loss: 0.0377 - sparse_categorical_accuracy: 0.9883 - val_loss: 0.0957 - val_sparse_categorical_accuracy: 0.9742\n"
     ]
    },
    {
     "data": {
      "text/plain": [
       "<keras.src.callbacks.history.History at 0x75ef7af35cc0>"
      ]
     },
     "execution_count": 14,
     "metadata": {},
     "output_type": "execute_result"
    }
   ],
   "source": [
    "model.fit(\n",
    "    x_train,\n",
    "    y_train,\n",
    "    batch_size=64,\n",
    "    epochs=10,\n",
    "    validation_data=(x_val, y_val)\n",
    ")"
   ]
  },
  {
   "cell_type": "code",
   "execution_count": 15,
   "id": "f36ddcda-3615-47f6-94c9-fdb7e4d094dd",
   "metadata": {},
   "outputs": [
    {
     "name": "stdout",
     "output_type": "stream",
     "text": [
      "\u001b[1m79/79\u001b[0m \u001b[32m━━━━━━━━━━━━━━━━━━━━\u001b[0m\u001b[37m\u001b[0m \u001b[1m0s\u001b[0m 412us/step - loss: 0.1276 - sparse_categorical_accuracy: 0.9667 \n"
     ]
    },
    {
     "data": {
      "text/plain": [
       "[0.11052051931619644, 0.9714000225067139]"
      ]
     },
     "execution_count": 15,
     "metadata": {},
     "output_type": "execute_result"
    }
   ],
   "source": [
    "model.evaluate(x_test, y_test, batch_size=128)"
   ]
  },
  {
   "cell_type": "code",
   "execution_count": 16,
   "id": "dc5444c5-bb86-40e3-a943-160aa6df0fcd",
   "metadata": {},
   "outputs": [
    {
     "name": "stdout",
     "output_type": "stream",
     "text": [
      "\u001b[1m79/79\u001b[0m \u001b[32m━━━━━━━━━━━━━━━━━━━━\u001b[0m\u001b[37m\u001b[0m \u001b[1m0s\u001b[0m 440us/step - loss: 0.1044 - sparse_categorical_accuracy: 0.9694\n"
     ]
    },
    {
     "data": {
      "text/plain": [
       "[0.09574047476053238, 0.9742000102996826]"
      ]
     },
     "execution_count": 16,
     "metadata": {},
     "output_type": "execute_result"
    }
   ],
   "source": [
    "model.evaluate(x_val, y_val, batch_size=128)"
   ]
  },
  {
   "cell_type": "code",
   "execution_count": 19,
   "id": "cf592272-3a46-4125-be0d-0b011f811caf",
   "metadata": {},
   "outputs": [
    {
     "name": "stdout",
     "output_type": "stream",
     "text": [
      "\u001b[1m4/4\u001b[0m \u001b[32m━━━━━━━━━━━━━━━━━━━━\u001b[0m\u001b[37m\u001b[0m \u001b[1m0s\u001b[0m 939us/step\n"
     ]
    },
    {
     "data": {
      "text/plain": [
       "array([[1.4352001e-16, 3.5445311e-10, 1.2919582e-10, ..., 4.5783321e-12,\n",
       "        1.4284174e-07, 7.0319544e-17],\n",
       "       [1.2047295e-10, 1.0237178e-08, 8.3884754e-07, ..., 5.2512844e-10,\n",
       "        9.9998844e-01, 2.4112142e-08],\n",
       "       [3.3136199e-05, 4.6018240e-08, 1.5922182e-05, ..., 2.1999713e-06,\n",
       "        7.5325293e-09, 9.2212105e-07],\n",
       "       ...,\n",
       "       [2.1975108e-08, 1.1580967e-09, 9.8336084e-10, ..., 4.3023838e-09,\n",
       "        3.9801327e-09, 1.5999518e-07],\n",
       "       [1.3570403e-06, 5.4941860e-09, 1.4140634e-08, ..., 9.9998832e-01,\n",
       "        3.8362882e-11, 8.0998780e-06],\n",
       "       [1.0000000e+00, 1.2819496e-16, 4.0759250e-08, ..., 4.7118742e-10,\n",
       "        6.4482707e-14, 3.0323299e-11]], dtype=float32)"
      ]
     },
     "execution_count": 19,
     "metadata": {},
     "output_type": "execute_result"
    }
   ],
   "source": [
    "model.predict(x_val[:128])"
   ]
  }
 ],
 "metadata": {
  "kernelspec": {
   "display_name": "Python 3 (ipykernel)",
   "language": "python",
   "name": "python3"
  },
  "language_info": {
   "codemirror_mode": {
    "name": "ipython",
    "version": 3
   },
   "file_extension": ".py",
   "mimetype": "text/x-python",
   "name": "python",
   "nbconvert_exporter": "python",
   "pygments_lexer": "ipython3",
   "version": "3.10.5"
  }
 },
 "nbformat": 4,
 "nbformat_minor": 5
}
