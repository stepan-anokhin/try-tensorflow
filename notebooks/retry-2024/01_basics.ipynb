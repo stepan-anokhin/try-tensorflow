{
 "cells": [
  {
   "cell_type": "markdown",
   "id": "bb2d8721-d8b0-4422-aabb-34523fcf8352",
   "metadata": {},
   "source": [
    "# Tensorflow Basics\n",
    "\n",
    "This notebook is a quick refresher for the Tensorflow basics. \n",
    "\n",
    "It is based on the following official guides:\n",
    "1. [Overview](https://www.tensorflow.org/guide/basics)\n",
    "2. [Tensors](https://www.tensorflow.org/guide/tensor)\n",
    "3. [Variables](https://www.tensorflow.org/guide/variable)\n",
    "4. [Automatic differentiation](https://www.tensorflow.org/guide/autodiff)\n",
    "5. [Graphs and Functions](https://www.tensorflow.org/guide/intro_to_graphs)\n",
    "6. [Modules, layers, models](https://www.tensorflow.org/guide/intro_to_modules)\n",
    "7. [Training Loops](https://www.tensorflow.org/guide/basic_training_loops)"
   ]
  },
  {
   "cell_type": "markdown",
   "id": "d9ae5af1-1dfd-4485-a4b7-f109400909f2",
   "metadata": {},
   "source": [
    "## Basic Setup"
   ]
  },
  {
   "cell_type": "code",
   "execution_count": 1,
   "id": "bad378c6-0746-4d70-8313-b4836af5f2a7",
   "metadata": {},
   "outputs": [],
   "source": [
    "import os\n",
    "\n",
    "# Suppress unwanted TF logs\n",
    "os.environ['TF_CPP_MIN_LOG_LEVEL'] = '3' \n",
    "\n",
    "# Load compressed models from tensorflow_hub\n",
    "os.environ['TFHUB_MODEL_LOAD_FORMAT'] = 'COMPRESSED'\n",
    "\n",
    "# Just FIX my local problem with duplicated packages:\n",
    "os.environ['PATH'] = f'/usr/local/cuda-12.5/bin:{os.environ[\"PATH\"]}'"
   ]
  },
  {
   "cell_type": "markdown",
   "id": "9bd0e161-0f66-4efb-91af-f7a323c92810",
   "metadata": {},
   "source": [
    "Import TF and Matplotlib:"
   ]
  },
  {
   "cell_type": "code",
   "execution_count": 2,
   "id": "dec36082-4828-4698-99e0-1438dcf1ea4f",
   "metadata": {},
   "outputs": [],
   "source": [
    "import tensorflow as tf\n",
    "import matplotlib.pyplot as plt\n",
    "import matplotlib as mpl"
   ]
  },
  {
   "cell_type": "markdown",
   "id": "b524d4d4-b9a8-4971-9327-22cc1267743e",
   "metadata": {},
   "source": [
    "## Quick Overview"
   ]
  },
  {
   "cell_type": "markdown",
   "id": "8b3ca427-659b-4f5a-b019-eda04a8408b9",
   "metadata": {},
   "source": [
    "### Tensors\n",
    "\n",
    "[Tensors](https://www.tensorflow.org/api_docs/python/tf/Tensor) (multi-dimensional arrays) are basic data structures on which all operations are performed:"
   ]
  },
  {
   "cell_type": "code",
   "execution_count": 3,
   "id": "6eb4c6a6-c2d9-4935-92fb-fe9e951e0a5f",
   "metadata": {},
   "outputs": [
    {
     "name": "stdout",
     "output_type": "stream",
     "text": [
      "Value:  [[1, 2, 3], [4, 5, 6]]\n",
      "Shape:  (2, 3)\n",
      "Type:   int32\n",
      "Device: /job:localhost/replica:0/task:0/device:GPU:0\n"
     ]
    }
   ],
   "source": [
    "t = tf.constant([[1, 2, 3], [4, 5, 6]])\n",
    "print(\"Value: \", t.numpy().tolist())\n",
    "print(\"Shape: \", t.shape)\n",
    "print(\"Type:  \", t.dtype.name)\n",
    "print(\"Device:\", t.device)"
   ]
  },
  {
   "cell_type": "markdown",
   "id": "18226d00-66fd-4240-ace2-dd00bcd840f5",
   "metadata": {},
   "source": [
    "Tensorflow defines multiple operations with tensors:"
   ]
  },
  {
   "cell_type": "code",
   "execution_count": 4,
   "id": "5ee2f8ce-0040-4d8c-98e7-ef317fc23553",
   "metadata": {},
   "outputs": [
    {
     "data": {
      "text/plain": [
       "<tf.Tensor: shape=(2, 3), dtype=int32, numpy=\n",
       "array([[ 2,  4,  6],\n",
       "       [ 8, 10, 12]], dtype=int32)>"
      ]
     },
     "execution_count": 4,
     "metadata": {},
     "output_type": "execute_result"
    }
   ],
   "source": [
    "t + t"
   ]
  },
  {
   "cell_type": "code",
   "execution_count": 5,
   "id": "7596eeb7-e4ad-4a24-aab1-78c8609da17e",
   "metadata": {},
   "outputs": [
    {
     "data": {
      "text/plain": [
       "<tf.Tensor: shape=(2, 3), dtype=int32, numpy=\n",
       "array([[    1,     4,    27],\n",
       "       [  256,  3125, 46656]], dtype=int32)>"
      ]
     },
     "execution_count": 5,
     "metadata": {},
     "output_type": "execute_result"
    }
   ],
   "source": [
    "t ** t"
   ]
  },
  {
   "cell_type": "code",
   "execution_count": 6,
   "id": "cc42ec31-0d09-4b91-969b-373419feed4c",
   "metadata": {},
   "outputs": [
    {
     "data": {
      "text/plain": [
       "<tf.Tensor: shape=(2, 2), dtype=int32, numpy=\n",
       "array([[14, 32],\n",
       "       [32, 77]], dtype=int32)>"
      ]
     },
     "execution_count": 6,
     "metadata": {},
     "output_type": "execute_result"
    }
   ],
   "source": [
    "t @ tf.transpose(t)"
   ]
  },
  {
   "cell_type": "code",
   "execution_count": 7,
   "id": "b106cb9e-5783-4ab3-b201-2eb00ae7262d",
   "metadata": {},
   "outputs": [
    {
     "data": {
      "text/plain": [
       "21"
      ]
     },
     "execution_count": 7,
     "metadata": {},
     "output_type": "execute_result"
    }
   ],
   "source": [
    "tf.reduce_sum(t).numpy()"
   ]
  },
  {
   "cell_type": "markdown",
   "id": "89f42f96-7bd5-4e65-b5c2-36a2c2ea1cee",
   "metadata": {},
   "source": [
    "### GPU Support\n",
    "\n",
    "You can check if GPU is available and if tensor is actually allocated in GPU memory:"
   ]
  },
  {
   "cell_type": "code",
   "execution_count": 8,
   "id": "182d421f-00d8-4667-a192-6e2aca36a185",
   "metadata": {},
   "outputs": [
    {
     "data": {
      "text/plain": [
       "[PhysicalDevice(name='/physical_device:GPU:0', device_type='GPU')]"
      ]
     },
     "execution_count": 8,
     "metadata": {},
     "output_type": "execute_result"
    }
   ],
   "source": [
    "tf.config.list_physical_devices(\"GPU\")"
   ]
  },
  {
   "cell_type": "code",
   "execution_count": 9,
   "id": "702d3fc8-8085-417d-9abd-2b15c1d216fb",
   "metadata": {},
   "outputs": [
    {
     "name": "stdout",
     "output_type": "stream",
     "text": [
      "WARNING:tensorflow:From /tmp/ipykernel_4371/337460670.py:1: is_gpu_available (from tensorflow.python.framework.test_util) is deprecated and will be removed in a future version.\n",
      "Instructions for updating:\n",
      "Use `tf.config.list_physical_devices('GPU')` instead.\n"
     ]
    },
    {
     "data": {
      "text/plain": [
       "True"
      ]
     },
     "execution_count": 9,
     "metadata": {},
     "output_type": "execute_result"
    }
   ],
   "source": [
    "tf.test.is_gpu_available()"
   ]
  },
  {
   "cell_type": "code",
   "execution_count": 10,
   "id": "612de4e3-e0c5-4056-aa6d-af8f9558c545",
   "metadata": {},
   "outputs": [
    {
     "data": {
      "text/plain": [
       "True"
      ]
     },
     "execution_count": 10,
     "metadata": {},
     "output_type": "execute_result"
    }
   ],
   "source": [
    "tf.test.is_built_with_cuda()"
   ]
  },
  {
   "cell_type": "code",
   "execution_count": 11,
   "id": "e59822ea-1ac5-4301-b4b9-e70236353c74",
   "metadata": {},
   "outputs": [
    {
     "data": {
      "text/plain": [
       "True"
      ]
     },
     "execution_count": 11,
     "metadata": {},
     "output_type": "execute_result"
    }
   ],
   "source": [
    "tf.test.is_built_with_gpu_support()"
   ]
  },
  {
   "cell_type": "markdown",
   "id": "01ed2b51-bd89-4fb6-b52d-8759ae5b8128",
   "metadata": {},
   "source": [
    "See [tf.config.list_physical_devices](https://tensorflow.org/api_docs/python/tf/config/list_physical_devices) and [tf.test.is_gpu_available](https://www.tensorflow.org/api_docs/python/tf/test/is_gpu_available) docs for more details."
   ]
  },
  {
   "cell_type": "markdown",
   "id": "372fb6f5-d1a2-44db-8fdd-aeb0c7b4d368",
   "metadata": {},
   "source": [
    "### Variables\n",
    "\n",
    "[tf.Tensor](https://www.tensorflow.org/api_docs/python/tf/Tensor) objects represent immutable nodes of computational graphs. To store trainable model weights or any other mutable state TensorFlow provides a [tf.Variable](https://www.tensorflow.org/api_docs/python/tf/Variable) abstraction. "
   ]
  },
  {
   "cell_type": "code",
   "execution_count": 12,
   "id": "9fe8c76a-5159-4266-8d38-7d80c61dbc20",
   "metadata": {},
   "outputs": [
    {
     "name": "stdout",
     "output_type": "stream",
     "text": [
      "Value: [[1, 2, 3], [4, 5, 6]]\n"
     ]
    }
   ],
   "source": [
    "v = tf.Variable([[1,2,3], [4,5,6]])\n",
    "print(\"Value:\", v.numpy().tolist())"
   ]
  },
  {
   "cell_type": "code",
   "execution_count": 13,
   "id": "63c6b5b4-f4e8-483f-aeb8-354a2ef092ab",
   "metadata": {},
   "outputs": [
    {
     "name": "stdout",
     "output_type": "stream",
     "text": [
      "Device: /job:localhost/replica:0/task:0/device:CPU:0\n"
     ]
    }
   ],
   "source": [
    "print(\"Device:\", v.device)"
   ]
  },
  {
   "cell_type": "code",
   "execution_count": 14,
   "id": "c2d2309b-2b1e-4910-9e14-f06e254657bc",
   "metadata": {},
   "outputs": [
    {
     "name": "stdout",
     "output_type": "stream",
     "text": [
      "Shape: (2, 3)\n"
     ]
    }
   ],
   "source": [
    "print(\"Shape:\", v.shape)"
   ]
  },
  {
   "cell_type": "markdown",
   "id": "aee5e6a3-37eb-4a7c-9ced-9c43040c9423",
   "metadata": {},
   "source": [
    "Variables support the same operations as tensors:"
   ]
  },
  {
   "cell_type": "code",
   "execution_count": 15,
   "id": "35de3b41-8091-4bcf-bb98-d716c7b070f1",
   "metadata": {},
   "outputs": [
    {
     "data": {
      "text/plain": [
       "<tf.Tensor: shape=(2, 3), dtype=int32, numpy=\n",
       "array([[ 2,  4,  6],\n",
       "       [ 8, 10, 12]], dtype=int32)>"
      ]
     },
     "execution_count": 15,
     "metadata": {},
     "output_type": "execute_result"
    }
   ],
   "source": [
    "v + v"
   ]
  },
  {
   "cell_type": "code",
   "execution_count": 16,
   "id": "ed97a5dd-b9cb-4514-b619-b015bd088dec",
   "metadata": {},
   "outputs": [
    {
     "data": {
      "text/plain": [
       "<tf.Tensor: shape=(2, 3), dtype=int32, numpy=\n",
       "array([[    1,     4,    27],\n",
       "       [  256,  3125, 46656]], dtype=int32)>"
      ]
     },
     "execution_count": 16,
     "metadata": {},
     "output_type": "execute_result"
    }
   ],
   "source": [
    "v ** v"
   ]
  },
  {
   "cell_type": "code",
   "execution_count": 17,
   "id": "7ad2b438-b70c-490d-9c94-ef8407b636ba",
   "metadata": {},
   "outputs": [
    {
     "data": {
      "text/plain": [
       "<tf.Tensor: shape=(2, 2), dtype=int32, numpy=\n",
       "array([[14, 32],\n",
       "       [32, 77]], dtype=int32)>"
      ]
     },
     "execution_count": 17,
     "metadata": {},
     "output_type": "execute_result"
    }
   ],
   "source": [
    "v @ tf.transpose(v)"
   ]
  },
  {
   "cell_type": "code",
   "execution_count": 18,
   "id": "f5af852f-f901-46bc-aaf3-e66b975c9466",
   "metadata": {},
   "outputs": [
    {
     "data": {
      "text/plain": [
       "<tf.Variable 'UnreadVariable' shape=(2, 3) dtype=int32, numpy=\n",
       "array([[    1,     4,    27],\n",
       "       [  256,  3125, 46656]], dtype=int32)>"
      ]
     },
     "execution_count": 18,
     "metadata": {},
     "output_type": "execute_result"
    }
   ],
   "source": [
    "v.assign(v ** t)"
   ]
  },
  {
   "cell_type": "markdown",
   "id": "4018acbf-72e2-4ff8-9cda-588487335925",
   "metadata": {},
   "source": [
    "### Automatic Differentiation\n",
    "\n",
    "One of the main aims of ML frameworks like TensorFlow is to privide API for automatic differentiation:"
   ]
  },
  {
   "cell_type": "code",
   "execution_count": 19,
   "id": "c2b3e275-8cc1-4857-bd73-7760b493334d",
   "metadata": {},
   "outputs": [
    {
     "data": {
      "text/plain": [
       "1.0"
      ]
     },
     "execution_count": 19,
     "metadata": {},
     "output_type": "execute_result"
    }
   ],
   "source": [
    "def some_function(x):\n",
    "    return x**2 - 2 * x + 1\n",
    "\n",
    "x = tf.Variable(0.0)\n",
    "\n",
    "some_function(x).numpy()"
   ]
  },
  {
   "cell_type": "code",
   "execution_count": 20,
   "id": "b0d2948b-d0b0-4938-a5bb-3eadecf46783",
   "metadata": {},
   "outputs": [
    {
     "data": {
      "text/plain": [
       "-2.0"
      ]
     },
     "execution_count": 20,
     "metadata": {},
     "output_type": "execute_result"
    }
   ],
   "source": [
    "with tf.GradientTape() as tape:\n",
    "    y = some_function(x)\n",
    "\n",
    "gradient_x = tape.gradient(y, x) # dy/dx\n",
    "\n",
    "gradient_x.numpy() # Should be -2"
   ]
  },
  {
   "cell_type": "code",
   "execution_count": 21,
   "id": "7fd8c4cc-d98a-44d2-acb8-2d18d29a52e4",
   "metadata": {},
   "outputs": [
    {
     "data": {
      "text/plain": [
       "0.0"
      ]
     },
     "execution_count": 21,
     "metadata": {},
     "output_type": "execute_result"
    }
   ],
   "source": [
    "x.assign(1.0)\n",
    "\n",
    "with tf.GradientTape() as tape:\n",
    "    y = some_function(x)\n",
    "\n",
    "gradient_x = tape.gradient(y, x)\n",
    "gradient_x.numpy() # Should be 0 now"
   ]
  },
  {
   "cell_type": "markdown",
   "id": "8dd1f895-adf1-478c-8117-20c20a9cded3",
   "metadata": {},
   "source": [
    "See [tf.GradientTape](https://www.tensorflow.org/api_docs/python/tf/GradientTape) class and [tf.GradientTape.gradient(...)](https://www.tensorflow.org/api_docs/python/tf/GradientTape#gradient) method docs for more details."
   ]
  },
  {
   "cell_type": "markdown",
   "id": "424d6148-9b25-40aa-9441-71d75806c153",
   "metadata": {},
   "source": [
    "### Graphs and tf.function\n",
    "\n",
    "When using tensors, variables and applying function, TensorFlow builds a [tfGraph](https://www.tensorflow.org/api_docs/python/tf/Graph) object behind the scene. The Graph object serves several purposes:\n",
    "1. Represent Lazy computations that should be executed on the GPU\n",
    "2. Make model specification serializeable and deserializeable\n",
    "3. Allow automatic gradients calculation\n",
    "\n",
    "In TFv1 the client code used to build Graphs directly. But TFv2 philosophy is to hide the Graph abstraction and provide native Python operations to build graphs automatically instead. So it is not so easy to directly access graphs built by TensorFlow v2. \n",
    "\n",
    "\n",
    "#### Accessing @tf.function Graph\n",
    "\n",
    "But this is actually possible by accessing concrete implementation built for `@tf.function` functions:"
   ]
  },
  {
   "cell_type": "code",
   "execution_count": 30,
   "id": "ca4691ac-3df0-4623-b3b3-f33ef0a71cdb",
   "metadata": {},
   "outputs": [
    {
     "data": {
      "text/plain": [
       "<tensorflow.python.framework.func_graph.FuncGraph at 0x75663c37a640>"
      ]
     },
     "execution_count": 30,
     "metadata": {},
     "output_type": "execute_result"
    }
   ],
   "source": [
    "@tf.function\n",
    "def some_func(x):\n",
    "    return x**2 - 2*x + 1\n",
    "\n",
    "v = tf.Variable([1.0, 2.0])\n",
    "y = some_func(v)\n",
    "\n",
    "concrete_func = some_func.get_concrete_function(v)\n",
    "graph = concrete_func.graph\n",
    "\n",
    "graph"
   ]
  },
  {
   "cell_type": "markdown",
   "id": "62fe0789-a396-4d94-b41d-cbbb1d5db4b6",
   "metadata": {},
   "source": [
    "#### Visualizing Graph with TensorBoard\n",
    "\n",
    "It is also possible to write graph summary to the logs and displaying it with TensorBoard:"
   ]
  },
  {
   "cell_type": "code",
   "execution_count": 22,
   "id": "83373c46-7598-40a3-9d34-6af4ce8d228a",
   "metadata": {},
   "outputs": [
    {
     "name": "stdout",
     "output_type": "stream",
     "text": [
      "Epoch 1/5\n"
     ]
    },
    {
     "name": "stderr",
     "output_type": "stream",
     "text": [
      "WARNING: All log messages before absl::InitializeLog() is called are written to STDERR\n",
      "I0000 00:00:1719494423.310587    4532 service.cc:145] XLA service 0x756570007c80 initialized for platform CUDA (this does not guarantee that XLA will be used). Devices:\n",
      "I0000 00:00:1719494423.310609    4532 service.cc:153]   StreamExecutor device (0): NVIDIA GeForce RTX 3070, Compute Capability 8.6\n"
     ]
    },
    {
     "name": "stdout",
     "output_type": "stream",
     "text": [
      "\u001b[1m 40/938\u001b[0m \u001b[37m━━━━━━━━━━━━━━━━━━━━\u001b[0m \u001b[1m1s\u001b[0m 1ms/step - accuracy: 0.3212 - loss: 1.9518  "
     ]
    },
    {
     "name": "stderr",
     "output_type": "stream",
     "text": [
      "I0000 00:00:1719494424.413797    4532 device_compiler.h:188] Compiled cluster using XLA!  This line is logged at most once for the lifetime of the process.\n"
     ]
    },
    {
     "name": "stdout",
     "output_type": "stream",
     "text": [
      "\u001b[1m938/938\u001b[0m \u001b[32m━━━━━━━━━━━━━━━━━━━━\u001b[0m\u001b[37m\u001b[0m \u001b[1m3s\u001b[0m 2ms/step - accuracy: 0.6792 - loss: 0.9385\n",
      "Epoch 2/5\n",
      "\u001b[1m938/938\u001b[0m \u001b[32m━━━━━━━━━━━━━━━━━━━━\u001b[0m\u001b[37m\u001b[0m \u001b[1m1s\u001b[0m 679us/step - accuracy: 0.8205 - loss: 0.5096\n",
      "Epoch 3/5\n",
      "\u001b[1m938/938\u001b[0m \u001b[32m━━━━━━━━━━━━━━━━━━━━\u001b[0m\u001b[37m\u001b[0m \u001b[1m1s\u001b[0m 728us/step - accuracy: 0.8410 - loss: 0.4476\n",
      "Epoch 4/5\n",
      "\u001b[1m938/938\u001b[0m \u001b[32m━━━━━━━━━━━━━━━━━━━━\u001b[0m\u001b[37m\u001b[0m \u001b[1m1s\u001b[0m 727us/step - accuracy: 0.8451 - loss: 0.4303\n",
      "Epoch 5/5\n",
      "\u001b[1m938/938\u001b[0m \u001b[32m━━━━━━━━━━━━━━━━━━━━\u001b[0m\u001b[37m\u001b[0m \u001b[1m1s\u001b[0m 694us/step - accuracy: 0.8507 - loss: 0.4170\n"
     ]
    },
    {
     "data": {
      "text/plain": [
       "<keras.src.callbacks.history.History at 0x7566b4571900>"
      ]
     },
     "execution_count": 22,
     "metadata": {},
     "output_type": "execute_result"
    }
   ],
   "source": [
    "from tensorflow import keras\n",
    "from datetime import datetime\n",
    "\n",
    "model = keras.models.Sequential([\n",
    "    keras.layers.Flatten(),\n",
    "    keras.layers.Dense(32, activation='relu'),\n",
    "    keras.layers.Dropout(0.2),\n",
    "    keras.layers.Dense(10, activation='softmax'),\n",
    "])\n",
    "\n",
    "model.compile(\n",
    "    optimizer='adam',\n",
    "    loss='sparse_categorical_crossentropy',\n",
    "    metrics=['accuracy']\n",
    ")\n",
    "\n",
    "(train_images, train_labels), _ = keras.datasets.fashion_mnist.load_data()\n",
    "train_images = train_images / 255.0\n",
    "\n",
    "logdir=\"logs/fit/\" + datetime.now().strftime(\"%Y%m%d-%H%M%S\")\n",
    "tensorboard_callback = keras.callbacks.TensorBoard(log_dir=logdir)\n",
    "\n",
    "model.fit(\n",
    "    train_images,\n",
    "    train_labels,\n",
    "    batch_size=64,\n",
    "    epochs=5,\n",
    "    callbacks=[tensorboard_callback]\n",
    ")"
   ]
  },
  {
   "cell_type": "code",
   "execution_count": 23,
   "id": "50fafb0d-d6ea-45cf-ab6c-3a7e3a83cb24",
   "metadata": {},
   "outputs": [],
   "source": [
    "%load_ext tensorboard"
   ]
  },
  {
   "cell_type": "code",
   "execution_count": 24,
   "id": "54052e2a-75cf-43ec-bf3b-eeb92db6334a",
   "metadata": {},
   "outputs": [
    {
     "data": {
      "text/html": [
       "\n",
       "      <iframe id=\"tensorboard-frame-ae0d67c7c19f4284\" width=\"100%\" height=\"800\" frameborder=\"0\">\n",
       "      </iframe>\n",
       "      <script>\n",
       "        (function() {\n",
       "          const frame = document.getElementById(\"tensorboard-frame-ae0d67c7c19f4284\");\n",
       "          const url = new URL(\"/\", window.location);\n",
       "          const port = 6006;\n",
       "          if (port) {\n",
       "            url.port = port;\n",
       "          }\n",
       "          frame.src = url;\n",
       "        })();\n",
       "      </script>\n",
       "    "
      ],
      "text/plain": [
       "<IPython.core.display.HTML object>"
      ]
     },
     "metadata": {},
     "output_type": "display_data"
    }
   ],
   "source": [
    "%tensorboard --logdir logs"
   ]
  },
  {
   "cell_type": "code",
   "execution_count": 29,
   "id": "46571e39-df29-4bca-9970-be20f21159d5",
   "metadata": {},
   "outputs": [
    {
     "data": {
      "text/plain": [
       "<tf.Tensor: shape=(3, 3), dtype=float32, numpy=\n",
       "array([[0.01333368, 0.88374174, 0.03898644],\n",
       "       [0.77957   , 0.04412699, 0.34613442],\n",
       "       [0.77130115, 0.3601129 , 0.9397435 ]], dtype=float32)>"
      ]
     },
     "execution_count": 29,
     "metadata": {},
     "output_type": "execute_result"
    }
   ],
   "source": [
    "tf.random.uniform((3,3))"
   ]
  },
  {
   "cell_type": "markdown",
   "id": "fddae777-01e0-4fa6-9ca0-f669f4aaf013",
   "metadata": {},
   "source": [
    "#### More Comments on Graphs\n",
    "\n",
    "For function call to build the graph, it should be decorated with [@tf.function](https://www.tensorflow.org/api_docs/python/tf/function) which will compile it into callable TensorFlow Graph upon every call with a new signature. \n",
    "\n",
    "The first call to the `tf.function` executes in Python:"
   ]
  },
  {
   "cell_type": "code",
   "execution_count": 31,
   "id": "c56ee8b3-6aef-4cb2-9ad8-482d34f30ade",
   "metadata": {},
   "outputs": [],
   "source": [
    "def inner_function(x, a, b):\n",
    "    print(\"From inner!\")\n",
    "    return a*x + b\n",
    "\n",
    "@tf.function\n",
    "def outer_function(x, a, b):\n",
    "    print(\"From outer!\")\n",
    "    y = inner_function(x, a, b)\n",
    "    return y**2 - 2*y + 1"
   ]
  },
  {
   "cell_type": "code",
   "execution_count": 33,
   "id": "78e69386-f923-42d0-ab2b-360498f63923",
   "metadata": {},
   "outputs": [],
   "source": [
    "x = tf.random.uniform((3,))\n",
    "a = tf.random.uniform((3, 3))\n",
    "b = tf.random.uniform((3,))"
   ]
  },
  {
   "cell_type": "code",
   "execution_count": 34,
   "id": "b50ee7bc-5747-4692-a936-57f0dbd221cb",
   "metadata": {},
   "outputs": [
    {
     "name": "stdout",
     "output_type": "stream",
     "text": [
      "From outer!\n",
      "From inner!\n"
     ]
    },
    {
     "data": {
      "text/plain": [
       "<tf.Tensor: shape=(3, 3), dtype=float32, numpy=\n",
       "array([[0.12316582, 0.21268663, 0.00938499],\n",
       "       [0.31938896, 0.2760742 , 0.02978361],\n",
       "       [0.32496268, 0.2783684 , 0.4771428 ]], dtype=float32)>"
      ]
     },
     "execution_count": 34,
     "metadata": {},
     "output_type": "execute_result"
    }
   ],
   "source": [
    "outer_function(x, a, b) # Should produce Python side-effects"
   ]
  },
  {
   "cell_type": "code",
   "execution_count": 35,
   "id": "6eb0c4b9-6d41-4d38-8b57-5ef2cad155dd",
   "metadata": {},
   "outputs": [
    {
     "data": {
      "text/plain": [
       "<tf.Tensor: shape=(3, 3), dtype=float32, numpy=\n",
       "array([[0.12316582, 0.21268663, 0.00938499],\n",
       "       [0.31938896, 0.2760742 , 0.02978361],\n",
       "       [0.32496268, 0.2783684 , 0.4771428 ]], dtype=float32)>"
      ]
     },
     "execution_count": 35,
     "metadata": {},
     "output_type": "execute_result"
    }
   ],
   "source": [
    "outer_function(x, a, b) # The second call shouldn't produce any side-effects"
   ]
  },
  {
   "cell_type": "markdown",
   "id": "e7ec46b1-6c55-44a3-ab5c-4cbe11072d0f",
   "metadata": {},
   "source": [
    "**NOTE**: On subsequent calls TensorFlow only executes the optimized graph, skipping any non-TensorFlow steps. But upon a call with a new signature it should recompile again! "
   ]
  },
  {
   "cell_type": "code",
   "execution_count": 40,
   "id": "7361ce22-97bf-405d-98a7-466b6c2d5a02",
   "metadata": {},
   "outputs": [
    {
     "name": "stdout",
     "output_type": "stream",
     "text": [
      "From outer!\n",
      "From inner!\n"
     ]
    },
    {
     "data": {
      "text/plain": [
       "<tf.Tensor: shape=(1,), dtype=int32, numpy=array([36], dtype=int32)>"
      ]
     },
     "execution_count": 40,
     "metadata": {},
     "output_type": "execute_result"
    }
   ],
   "source": [
    "# Should produce side effects as we are calling with different shapes:\n",
    "outer_function(tf.constant([3]), tf.constant(2), tf.constant(1)) "
   ]
  },
  {
   "cell_type": "markdown",
   "id": "fd8d4ce4-d922-4ed2-8a75-4c3acb816d14",
   "metadata": {},
   "source": [
    "### Models, Layers and Models\n",
    "\n",
    "[tf.Module](https://www.tensorflow.org/api_docs/python/tf/Module) is a base high-level API class for managing NeuralNetworks and other models as a whole. "
   ]
  },
  {
   "cell_type": "markdown",
   "id": "0b3fb2d3-82c0-4092-9819-da16deab9052",
   "metadata": {},
   "source": [
    "### Training Loops\n"
   ]
  },
  {
   "cell_type": "markdown",
   "id": "636e0cf9-22c7-4700-9c0d-13e8ba2fe5ce",
   "metadata": {},
   "source": [
    "#### Obtain Data"
   ]
  },
  {
   "cell_type": "code",
   "execution_count": 116,
   "id": "cffdb8dc-eaac-41fc-9ce3-b3464b219f58",
   "metadata": {},
   "outputs": [],
   "source": [
    "actual_a, actual_b = 1.5, 2.0\n",
    "\n",
    "def actual_function(x):\n",
    "    \"\"\"Actual function to be reconstructed.\"\"\"\n",
    "    return actual_a*x + actual_b\n",
    "\n",
    "def noise(x, mean=0.0, stddev=1.0):\n",
    "    \"\"\"Generate noise.\"\"\"\n",
    "    return tf.random.normal(x.shape, mean=mean, stddev=stddev, dtype=x.dtype)\n",
    "\n",
    "x = tf.linspace(-10, 10, 100)\n",
    "y = actual_function(x) + noise(x, stddev=2.0)"
   ]
  },
  {
   "cell_type": "code",
   "execution_count": 117,
   "id": "1a28abf7-b928-4f20-95fa-31e847d703ec",
   "metadata": {},
   "outputs": [
    {
     "data": {
      "text/plain": [
       "<matplotlib.legend.Legend at 0x7563e2b7ba00>"
      ]
     },
     "execution_count": 117,
     "metadata": {},
     "output_type": "execute_result"
    },
    {
     "data": {
      "image/png": "[encoded data removed]",
      "text/plain": [
       "<Figure size 640x480 with 1 Axes>"
      ]
     },
     "metadata": {},
     "output_type": "display_data"
    }
   ],
   "source": [
    "plt.plot(x, actual_function(x), '--', label='Actual', c='grey')\n",
    "plt.scatter(x, y, label='Noizy data', c='orange')\n",
    "plt.legend()"
   ]
  },
  {
   "cell_type": "markdown",
   "id": "47d1a7fd-d48d-4b49-ad02-b2fe67ad4f53",
   "metadata": {},
   "source": [
    "#### Define Model"
   ]
  },
  {
   "cell_type": "code",
   "execution_count": 118,
   "id": "4b8e625a-b3dc-4650-8641-c8121ea254e2",
   "metadata": {},
   "outputs": [],
   "source": [
    "class MyModel(tf.Module):\n",
    "    def __init__(self, dtype, **kwargs):\n",
    "        super().__init__(**kwargs)\n",
    "        self.a = tf.Variable(0.0, dtype=dtype)\n",
    "        self.b = tf.Variable(0.0, dtype=dtype)\n",
    "\n",
    "    def __call__(self, x):\n",
    "        return self.a * x + self.b"
   ]
  },
  {
   "cell_type": "markdown",
   "id": "240b65ee-8ca6-45b8-9c90-eb9cb45c649e",
   "metadata": {},
   "source": [
    "#### Define Loss"
   ]
  },
  {
   "cell_type": "code",
   "execution_count": 119,
   "id": "bdc4592d-c818-4c3b-9076-3f7aa5132107",
   "metadata": {},
   "outputs": [],
   "source": [
    "def loss(target_y, predicted_y):\n",
    "    \"\"\"Calculate loss.\"\"\"\n",
    "    return tf.reduce_mean(tf.square(target_y - predicted_y))"
   ]
  },
  {
   "cell_type": "markdown",
   "id": "f6f56a0d-135f-4fc0-a7e1-d0c0dd92c2eb",
   "metadata": {},
   "source": [
    "#### Define a Training Loop"
   ]
  },
  {
   "cell_type": "code",
   "execution_count": 120,
   "id": "ebd88aae-5351-4545-a225-31e6e17d5fdc",
   "metadata": {},
   "outputs": [],
   "source": [
    "from dataclasses import dataclass, field\n",
    "from typing import List\n",
    "\n",
    "@dataclass(frozen=True)\n",
    "class Report:\n",
    "    a: List[float] = field(default_factory=list)\n",
    "    b: List[float] = field(default_factory=list)\n",
    "    loss: List[float] = field(default_factory=list)\n",
    "\n",
    "def train(model, x, y, learning_rate, loss=loss):\n",
    "    \"\"\"Execute one learning step.\"\"\"\n",
    "    with tf.GradientTape() as tape:\n",
    "        current_loss = loss(y, model(x))\n",
    "\n",
    "    da, db = tape.gradient(current_loss, [model.a, model.b])\n",
    "    model.a.assign_sub(learning_rate * da)\n",
    "    model.b.assign_sub(learning_rate * db)\n",
    "    return current_loss"
   ]
  },
  {
   "cell_type": "code",
   "execution_count": 121,
   "id": "80ed0c96-78d7-43c1-8703-66cf1609410e",
   "metadata": {},
   "outputs": [],
   "source": [
    "def training_loop(model, x, y, n_epochs: int=10, learning_rate:float=0.1)->Report:\n",
    "    \"\"\"Actual training loop.\"\"\"\n",
    "    report = Report()\n",
    "    for epoch in range(n_epochs):\n",
    "        report.a.append(model.a.numpy())\n",
    "        report.b.append(model.b.numpy())\n",
    "        loss = train(model, x, y, learning_rate)\n",
    "        report.loss.append(loss)\n",
    "    return report"
   ]
  },
  {
   "cell_type": "markdown",
   "id": "255d78d7-b00a-40f5-892f-d33d7ad7e922",
   "metadata": {},
   "source": [
    "#### Create and Train Model"
   ]
  },
  {
   "cell_type": "code",
   "execution_count": 134,
   "id": "57c301f1-dc03-4e96-8c52-41b9d1afd27a",
   "metadata": {},
   "outputs": [
    {
     "data": {
      "text/plain": [
       "<matplotlib.legend.Legend at 0x7563e139a6e0>"
      ]
     },
     "execution_count": 134,
     "metadata": {},
     "output_type": "execute_result"
    },
    {
     "data": {
      "image/png": "[encoded data removed]",
      "text/plain": [
       "<Figure size 640x480 with 1 Axes>"
      ]
     },
     "metadata": {},
     "output_type": "display_data"
    }
   ],
   "source": [
    "model = MyModel(dtype=y.dtype)\n",
    "n_epochs = 400\n",
    "report = training_loop(model, x, y, learning_rate=0.01, n_epochs=n_epochs)\n",
    "plt.plot(x, model(x), label=\"Predicted\")\n",
    "plt.plot(x, actual_function(x), '--', c='green', label=\"Actual\")\n",
    "plt.scatter(x, y, c='orange', label=\"Noizy Data\")\n",
    "plt.grid()\n",
    "plt.legend()"
   ]
  },
  {
   "cell_type": "code",
   "execution_count": 135,
   "id": "c48a056b-7060-4119-888f-b8b11e55784c",
   "metadata": {},
   "outputs": [
    {
     "data": {
      "text/plain": [
       "<matplotlib.legend.Legend at 0x7563e1356c80>"
      ]
     },
     "execution_count": 135,
     "metadata": {},
     "output_type": "execute_result"
    },
    {
     "data": {
      "image/png": "[encoded data removed]",
      "text/plain": [
       "<Figure size 640x480 with 1 Axes>"
      ]
     },
     "metadata": {},
     "output_type": "display_data"
    }
   ],
   "source": [
    "plt.plot(range(n_epochs), report.loss, label=\"Loss\")\n",
    "plt.grid()\n",
    "plt.legend()"
   ]
  },
  {
   "cell_type": "code",
   "execution_count": 136,
   "id": "7a2bed30-c81d-4562-b25b-bba13c8d208d",
   "metadata": {},
   "outputs": [
    {
     "data": {
      "text/plain": [
       "<matplotlib.legend.Legend at 0x7563e12a5a80>"
      ]
     },
     "execution_count": 136,
     "metadata": {},
     "output_type": "execute_result"
    },
    {
     "data": {
      "image/png": "[encoded data removed]",
      "text/plain": [
       "<Figure size 640x480 with 1 Axes>"
      ]
     },
     "metadata": {},
     "output_type": "display_data"
    }
   ],
   "source": [
    "plt.plot(range(n_epochs), [actual_a]*n_epochs, '--', c='orange', label=\"Actual a\")\n",
    "plt.plot(range(n_epochs), [actual_b]*n_epochs, '--', c='green', label=\"Actual b\")\n",
    "plt.plot(range(n_epochs), report.a, label=\"Predicted a\")\n",
    "plt.plot(range(n_epochs), report.b, label=\"Predicted b\")\n",
    "plt.grid()\n",
    "plt.legend()"
   ]
  }
 ],
 "metadata": {
  "kernelspec": {
   "display_name": "Python 3 (ipykernel)",
   "language": "python",
   "name": "python3"
  },
  "language_info": {
   "codemirror_mode": {
    "name": "ipython",
    "version": 3
   },
   "file_extension": ".py",
   "mimetype": "text/x-python",
   "name": "python",
   "nbconvert_exporter": "python",
   "pygments_lexer": "ipython3",
   "version": "3.10.5"
  }
 },
 "nbformat": 4,
 "nbformat_minor": 5
}
